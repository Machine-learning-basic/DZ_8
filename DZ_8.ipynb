{
 "cells": [
  {
   "cell_type": "code",
   "execution_count": 51,
   "id": "959ef370",
   "metadata": {},
   "outputs": [],
   "source": [
    "# Загружаем библиотеки\n",
    "import pandas as pd # Датафреймы pandas\n",
    "from sklearn.linear_model import LinearRegression # Линейная регрессия\n",
    "from sklearn.model_selection import train_test_split # Разделение выборки на обучающую и тестовую\n",
    "from sklearn.tree import DecisionTreeRegressor # Решающее дерево для регрессии\n",
    "import matplotlib.pyplot as plt # Графики"
   ]
  },
  {
   "cell_type": "markdown",
   "id": "782f8a31",
   "metadata": {},
   "source": [
    "#### Подготовка данных"
   ]
  },
  {
   "cell_type": "code",
   "execution_count": 31,
   "id": "9c8826cd",
   "metadata": {},
   "outputs": [],
   "source": [
    "# Загружаем пример данных о продажах недвижимости\n",
    "from sklearn.datasets import load_boston\n",
    "data = pd.read_csv(load_boston()['filename'], skiprows = 1)\n",
    "# Матрица признаков \n",
    "X = data.iloc [:, :-1]\n",
    "# Вектор целевых значений\n",
    "y = data.iloc [:, -1]\n",
    "# Разделение выборки на обучающую и тестовую\n",
    "X_train, X_test, y_train, y_test = train_test_split(X, y, random_state = 42)  "
   ]
  },
  {
   "cell_type": "markdown",
   "id": "98707da8",
   "metadata": {},
   "source": [
    "#### Линейная регрессия"
   ]
  },
  {
   "cell_type": "code",
   "execution_count": 45,
   "id": "c530770c",
   "metadata": {},
   "outputs": [
    {
     "name": "stdout",
     "output_type": "stream",
     "text": [
      "Точность линейной регрессии 0.68\n"
     ]
    }
   ],
   "source": [
    "# Вызываем модель линейной регрессии\n",
    "model_lin = LinearRegression()\n",
    "# Обучаем модель на обучающей выборке\n",
    "model_lin.fit(X_train, y_train)\n",
    "# Оцениваем качество с помощью коэффициента детерминации\n",
    "R2_lin_reg = model_lin.score(X_test, y_test)\n",
    "print(f'Точность линейной регрессии {round(R2_lin_reg, 2)}')"
   ]
  },
  {
   "cell_type": "markdown",
   "id": "d1f8ca3f",
   "metadata": {},
   "source": [
    "#### Решающее дерево для регрессии"
   ]
  },
  {
   "cell_type": "code",
   "execution_count": 63,
   "id": "ea398ccd",
   "metadata": {},
   "outputs": [],
   "source": [
    "# Словарь для записи результатов настройки модели\n",
    "result_model_tree = {}\n",
    "\n",
    "# Перебираем в цикле ограничения на глубину дерева\n",
    "for depth in range(1, 16):\n",
    "    # Вызываем модель решающего дерева\n",
    "    model_tree = DecisionTreeRegressor(max_depth = depth)\n",
    "    # Обучаем модель на обучающей выборке\n",
    "    model_tree.fit(X_train, y_train)\n",
    "    # Оцениваем качество с помощью коэффициента детерминации\n",
    "    R2_tree_reg = model_tree.score(X_test, y_test)\n",
    "    result_model_tree[depth] = R2_tree_reg"
   ]
  },
  {
   "cell_type": "code",
   "execution_count": 67,
   "id": "8e7486d9",
   "metadata": {},
   "outputs": [
    {
     "data": {
      "image/png": "[encoded data removed]",
      "text/plain": [
       "<Figure size 576x360 with 1 Axes>"
      ]
     },
     "metadata": {
      "needs_background": "light"
     },
     "output_type": "display_data"
    },
    {
     "name": "stdout",
     "output_type": "stream",
     "text": [
      "Точность модели решающего дерева возрастает с увеличением максимальной глубины вплоть до 7, с дальнейшим увеличением глубины наблюдается насыщение. Достигнутый показатель точности около 0.8\n"
     ]
    }
   ],
   "source": [
    "# Покажем на графике зависимость точности модели от максимальной глубины дерева\n",
    "\n",
    "plt.figure(figsize = (8, 5))\n",
    "plt.scatter(result_model_tree.keys(), result_model_tree.values())\n",
    "plt.xlim(0, 16)\n",
    "plt.ylim(0, 1)\n",
    "plt.grid()\n",
    "plt.xlabel('Максимальная глубина дерева', fontsize = 'x-large')\n",
    "plt.ylabel('Показатель точности', fontsize = 'x-large')\n",
    "plt.title('Зависимость точности модели от максимальной глубины дерева\\n', fontsize = 'x-large')\n",
    "\n",
    "plt.show()\n",
    "\n",
    "print('Точность модели решающего дерева возрастает с увеличением максимальной глубины вплоть до 7, с дальнейшим увеличением глубины наблюдается насыщение. Достигнутый показатель точности около 0.8')"
   ]
  },
  {
   "cell_type": "markdown",
   "id": "38920835",
   "metadata": {},
   "source": [
    "#### Вывод: в заданном примере модель решающего дерева обеспечивает лучшую точность по сравнению с моделью линейной регрессии."
   ]
  }
 ],
 "metadata": {
  "kernelspec": {
   "display_name": "Python 3",
   "language": "python",
   "name": "python3"
  },
  "language_info": {
   "codemirror_mode": {
    "name": "ipython",
    "version": 3
   },
   "file_extension": ".py",
   "mimetype": "text/x-python",
   "name": "python",
   "nbconvert_exporter": "python",
   "pygments_lexer": "ipython3",
   "version": "3.8.8"
  }
 },
 "nbformat": 4,
 "nbformat_minor": 5
}
